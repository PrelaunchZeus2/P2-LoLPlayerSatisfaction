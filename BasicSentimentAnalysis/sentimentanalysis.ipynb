{
 "cells": [
  {
   "cell_type": "markdown",
   "metadata": {},
   "source": [
    "# Player Satisfaction Project Part 2: Basic Sentiment Analysis\n",
    "\n",
    "### This is the second part of the player satisfaction project. This section deals with performing a basic two trait (polarity and subjectivity) sentiment analysis on the open responses that participants gave to the survey."
   ]
  },
  {
   "cell_type": "markdown",
   "metadata": {},
   "source": [
    "For this part I will continue to use pandas for the amazing data frame structure and powerful functions that come with it. The textblob library has broad applications in Natural Language Processing but in this case I am using the sentiment analysis functions."
   ]
  },
  {
   "cell_type": "code",
   "execution_count": 1,
   "metadata": {},
   "outputs": [],
   "source": [
    "import pandas as pd\n",
    "from textblob import TextBlob\n"
   ]
  },
  {
   "cell_type": "markdown",
   "metadata": {},
   "source": [
    "Sentiment analysis is the process of examining text and categorizing or assigning scores that represent the author of the statements sentiment. In this basic sentiment analysis we will be examining the responses to the open ended question about what changes or balance decisions a person would like to see."
   ]
  },
  {
   "cell_type": "code",
   "execution_count": 2,
   "metadata": {},
   "outputs": [],
   "source": [
    "#import data set into a data frame\n",
    "Sentiment_Analysis_df = pd.read_csv(r'..\\LolDataCleaned.csv')"
   ]
  },
  {
   "cell_type": "markdown",
   "metadata": {},
   "source": [
    "The textblob library has a sentiment function which will parse our text and assign two scores to it, Polarity and Subjectivity. Polarity is a value between -1 and 1 that describes the positivity or negativity of the statement. -1 means the statement is very negative, 1 means the statement is positive, and a score of zero indicates the statement is neutral. Subjectivity is a value between 0 and 1 that describes the factuality of the statement. A score of 0 means the statement is or refers to factual information while a score of 1 mean that the statement is likely a personal opinion. These scores will be calculated and appended to our data frame as seperate columns"
   ]
  },
  {
   "cell_type": "code",
   "execution_count": 3,
   "metadata": {},
   "outputs": [],
   "source": [
    "#Iterate row by row and generate a sentiment analysis for each entry\n",
    "for index, row in Sentiment_Analysis_df.iterrows():\n",
    "    analysis = TextBlob(str(row['OpenChanges']))\n",
    "    Sentiment_Analysis_df.loc[index, 'polarity'] = analysis.sentiment.polarity\n",
    "    Sentiment_Analysis_df.loc[index, 'subjectivity'] = analysis.sentiment.subjectivity\n"
   ]
  },
  {
   "cell_type": "code",
   "execution_count": 6,
   "metadata": {},
   "outputs": [
    {
     "name": "stdout",
     "output_type": "stream",
     "text": [
      "0     -0.400000\n",
      "1      0.000000\n",
      "2      0.068182\n",
      "3      0.000000\n",
      "4      0.211161\n",
      "         ...   \n",
      "130    0.000000\n",
      "131    0.000000\n",
      "132   -0.300000\n",
      "133    0.136364\n",
      "134   -0.102727\n",
      "Name: polarity, Length: 135, dtype: float64\n"
     ]
    }
   ],
   "source": [
    "print(Sentiment_Analysis_df['polarity'])"
   ]
  },
  {
   "cell_type": "markdown",
   "metadata": {},
   "source": [
    "Now that we have a sentiment score created we can export this as a .csv for further analysis"
   ]
  },
  {
   "cell_type": "code",
   "execution_count": 5,
   "metadata": {},
   "outputs": [],
   "source": [
    "Sentiment_Analysis_df.to_csv('BasicSentimentAnalysis.csv')"
   ]
  }
 ],
 "metadata": {
  "kernelspec": {
   "display_name": "Python 3",
   "language": "python",
   "name": "python3"
  },
  "language_info": {
   "codemirror_mode": {
    "name": "ipython",
    "version": 3
   },
   "file_extension": ".py",
   "mimetype": "text/x-python",
   "name": "python",
   "nbconvert_exporter": "python",
   "pygments_lexer": "ipython3",
   "version": "3.12.3"
  }
 },
 "nbformat": 4,
 "nbformat_minor": 2
}
