{
 "cells": [
  {
   "cell_type": "markdown",
   "metadata": {},
   "source": [
    "This is the Beginning of the "
   ]
  },
  {
   "cell_type": "code",
   "execution_count": null,
   "metadata": {},
   "outputs": [],
   "source": [
    "import pandas as pd\n",
    "import numpy as np"
   ]
  },
  {
   "cell_type": "code",
   "execution_count": null,
   "metadata": {},
   "outputs": [],
   "source": [
    "PSS = pd.DataFrame(pd.read_csv('LolDataRaw.csv'))\n",
    "PSS.head()"
   ]
  },
  {
   "cell_type": "markdown",
   "metadata": {},
   "source": [
    "Looking at the results of self.head() we can see that the first two rows dont have relevant data for us to use. This is because when qualtrics exported the data I had it include the qestions that I created as a row in the data sheet. I want to print these rows for later reference then discard them as they do not contain any relevant data. "
   ]
  },
  {
   "cell_type": "code",
   "execution_count": null,
   "metadata": {},
   "outputs": [],
   "source": [
    "#Store and Print the row that contains the questions\n",
    "Questions = PSS.iloc[0].values\n",
    "print(Questions)"
   ]
  },
  {
   "cell_type": "code",
   "execution_count": null,
   "metadata": {},
   "outputs": [],
   "source": [
    "#Drop the first and second row.\n",
    "PSS.drop(axis = 0, index = 1, inplace = True)\n",
    "PSS.drop(axis = 0, index = 0, inplace= True)\n",
    "PSS.head()"
   ]
  },
  {
   "cell_type": "code",
   "execution_count": null,
   "metadata": {},
   "outputs": [],
   "source": [
    "#Missing and Null Value Cleaning\n",
    "PSS.isnull().sum()"
   ]
  },
  {
   "cell_type": "markdown",
   "metadata": {},
   "source": [
    "From the function, we can see that there are quite a few null values in our data set. Using visual inspection in excel/numbers we can decide what to do with null values in each column."
   ]
  },
  {
   "cell_type": "code",
   "execution_count": null,
   "metadata": {},
   "outputs": [],
   "source": [
    "#Ranked Column\n",
    "PSS.Rank = PSS.Rank.fillna(value = 'Not Provided') #Fill the missing values with 'Not Provided'\n",
    "#Gender Column\n",
    "PSS.Gender = PSS.Gender.fillna(value = 'Prefer not to say') #Fill missing with prefer not to say\n",
    "#Q3 Column\n",
    "PSS.Q3 = PSS.Q3.fillna(value = 'No Preference / Fill') #Fill missing with No Preference / Fill\n",
    "#Q4 Column\n",
    "PSS.Q4 = PSS.Q4.fillna(value = 'No Main Champ') #Fill missing with No Main Champ\n",
    "#Veterancy\n",
    "PSS.Veterancy = PSS.Veterancy.fillna(value = 'Not Provided') #Fill missing with Empty\n",
    "#Player Stats\n",
    "PSS.PlayerStats = PSS.PlayerStats.fillna(value = 'Not Provided') #Fill missing with Empty\n"
   ]
  },
  {
   "cell_type": "markdown",
   "metadata": {},
   "source": [
    "I'll explain the reasoning behind the columns so far.\n",
    "For the ranked column I wanted to mark that the participant did not want to share their rank which is fine because the question is optional.\n",
    "For the Gender Column there was a prefer not to say option listed in the drop down so I'll just safely assume that by leaving the question blank the participant wanted to not share their gender but didn't see that option.\n",
    "For the Question 3 Column, this regarded the player listing their main or preferred role, if it was left blank Ill just assume they have no preference/fill, if they listed their OP.GG i could use a script to identify their most played champ and fill it in but for now we'll just keep it simple.\n",
    "For the Question 4 Column, the participant was asked what their main champ was, once again I'm keeping it simple and filling it to mark they don't have a main champion.\n",
    "For the veterancy Column, participants were supposed to mark or write how long they have played the game, I decided to just fill missing values with not provided in order to mark that they chose not to share this info\n",
    "Finally, for the player stats column, this is where they were supposed to share their username or op.gg link, I decided to mark when they chose not to share that information.\n",
    "\n",
    "Next columns deal with responses, with these I would like to drop rows that have more than 2 missing values in the columns because they are ranked choice questions and not having a ranking for a certain category is not a valid response."
   ]
  },
  {
   "cell_type": "code",
   "execution_count": null,
   "metadata": {},
   "outputs": [],
   "source": [
    "#drop rows with too many missing values\n",
    "threshold = 1 #1 or more missing values -> drop the row\n",
    "PSS = PSS.dropna(thresh = PSS.shape[1] - threshold)"
   ]
  },
  {
   "cell_type": "code",
   "execution_count": null,
   "metadata": {},
   "outputs": [],
   "source": [
    "#Recount Null Values\n",
    "PSS.isna().sum()"
   ]
  },
  {
   "cell_type": "code",
   "execution_count": null,
   "metadata": {},
   "outputs": [],
   "source": [
    "#I also want to rename some of the columns because Q3 and Q4 are not descriptive enough\n",
    "PSS.rename(columns = {'Q3':'MainRole'}, inplace = True) #This column holds which role the participant listed as their main role\n",
    "PSS.rename(columns = {'Q4':'MainedChamp'}, inplace = True) #This column asked players to list which champ(s) they mained, this could hold multiple values that we need to parse later\n",
    "PSS.rename(columns = {'Q11':'OtherChanges'}, inplace = True) #Finally this was the response to the open question of what other changes they might want to see in the game\n",
    "PSS.rename(columns = {'OpenChanges ':'OpenChanges'}, inplace = True)\n",
    "print(PSS.columns) #show the column names\n"
   ]
  },
  {
   "cell_type": "markdown",
   "metadata": {},
   "source": [
    "Now that our dataset is cleaned lets export it to a new csv file to use later"
   ]
  },
  {
   "cell_type": "code",
   "execution_count": null,
   "metadata": {},
   "outputs": [],
   "source": [
    "PSS.to_csv('LolDataCleaned.csv', index = False) #Save the cleaned data to a new csv file"
   ]
  }
 ],
 "metadata": {
  "language_info": {
   "name": "python"
  }
 },
 "nbformat": 4,
 "nbformat_minor": 2
}
